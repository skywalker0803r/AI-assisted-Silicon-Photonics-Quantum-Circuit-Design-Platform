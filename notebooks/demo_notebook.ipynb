{
 "cells": [
  {
   "cell_type": "markdown",
   "metadata": {},
   "source": [
    "# AI輔助矽光子量子電路設計平台 - 演示筆記本\n",
    "\n",
    "這個筆記本展示如何使用我們的平台進行矽光子量子電路設計和最佳化。"
   ]
  },
  {
   "cell_type": "markdown",
   "metadata": {},
   "source": [
    "## 1. 環境設置和導入模組"
   ]
  },
  {
   "cell_type": "code",
   "execution_count": null,
   "metadata": {},
   "outputs": [],
   "source": [
    "import sys\n",
    "import os\n",
    "sys.path.append('..')\n",
    "\n",
    "import numpy as np\n",
    "import matplotlib.pyplot as plt\n",
    "from IPython.display import display, HTML\n",
    "\n",
    "# 導入我們的模組\n",
    "from core.components import DesignParameters, DirectionalCoupler, create_component\n",
    "from core.simulator import CircuitSimulator, create_simple_circuit\n",
    "from optimization.bayesian_opt import optimize_design\n",
    "from optimization.surrogate_model import SurrogateModel\n",
    "from evaluation.metrics import quick_evaluate\n",
    "\n",
    "print(\"✅ 模組導入成功！\")"
   ]
  },
  {
   "cell_type": "markdown",
   "metadata": {},
   "source": [
    "## 2. 基礎元件測試"
   ]
  },
  {
   "cell_type": "code",
   "execution_count": null,
   "metadata": {},
   "outputs": [],
   "source": [
    "# 創建設計參數\n",
    "params = DesignParameters(\n",
    "    coupling_length=15.0,  # μm\n",
    "    gap=0.2,              # μm\n",
    "    waveguide_width=0.5,  # μm\n",
    "    wavelength=1550e-9    # m\n",
    ")\n",
    "\n",
    "# 測試方向耦合器\n",
    "coupler = DirectionalCoupler()\n",
    "T = coupler.compute_transmission_matrix(params)\n",
    "ratio = coupler.get_splitting_ratio(params)\n",
    "\n",
    "print(\"方向耦合器測試:\")\n",
    "print(f\"傳輸矩陣:\\n{T}\")\n",
    "print(f\"分束比: {ratio[0]:.3f} / {ratio[1]:.3f}\")\n",
    "print(f\"總功率: {sum(ratio):.3f}\")"
   ]
  },
  {
   "cell_type": "markdown",
   "metadata": {},
   "source": [
    "## 3. 電路模擬"
   ]
  },
  {
   "cell_type": "code",
   "execution_count": null,
   "metadata": {},
   "outputs": [],
   "source": [
    "# 創建簡單的分束器電路\n",
    "simulator = create_simple_circuit(['directional_coupler'])\n",
    "simulator.set_quantum_simulator(n_modes=2, n_photons=1)\n",
    "\n",
    "# 執行模擬\n",
    "result = simulator.simulate_classical(params)\n",
    "\n",
    "print(\"電路模擬結果:\")\n",
    "print(f\"傳輸效率: {result.transmission_efficiency:.3f}\")\n",
    "print(f\"分束比: {result.splitting_ratio}\")\n",
    "print(f\"損耗: {result.loss_db:.2f} dB\")\n",
    "print(f\"保真度: {result.fidelity:.3f}\")\n",
    "print(f\"製程容忍度: {result.robustness_score:.3f}\")"
   ]
  },
  {
   "cell_type": "markdown",
   "metadata": {},
   "source": [
    "## 4. 性能評估"
   ]
  },
  {
   "cell_type": "code",
   "execution_count": null,
   "metadata": {},
   "outputs": [],
   "source": [
    "# 評估設計性能\n",
    "evaluation = quick_evaluate(result, target_splitting_ratio=[0.5, 0.5])\n",
    "\n",
    "print(\"設計評估:\")\n",
    "for metric, value in evaluation['summary'].items():\n",
    "    print(f\"  {metric}: {value}\")\n",
    "\n",
    "print(f\"\\n綜合評分: {evaluation['composite_score']:.3f}\")"
   ]
  },
  {
   "cell_type": "markdown",
   "metadata": {},
   "source": [
    "## 5. 參數掃描分析"
   ]
  },
  {
   "cell_type": "code",
   "execution_count": null,
   "metadata": {},
   "outputs": [],
   "source": [
    "# 掃描耦合長度的影響\n",
    "coupling_lengths = np.linspace(5, 30, 20)\n",
    "splitting_ratios = []\n",
    "transmissions = []\n",
    "\n",
    "for length in coupling_lengths:\n",
    "    test_params = DesignParameters(\n",
    "        coupling_length=length,\n",
    "        gap=0.2,\n",
    "        waveguide_width=0.5,\n",
    "        wavelength=1550e-9\n",
    "    )\n",
    "    \n",
    "    test_result = simulator.simulate_classical(test_params)\n",
    "    splitting_ratios.append(test_result.splitting_ratio[0])\n",
    "    transmissions.append(test_result.transmission_efficiency)\n",
    "\n",
    "# 繪圖\n",
    "fig, (ax1, ax2) = plt.subplots(1, 2, figsize=(12, 5))\n",
    "\n",
    "ax1.plot(coupling_lengths, splitting_ratios, 'b-o')\n",
    "ax1.axhline(y=0.5, color='r', linestyle='--', label='目標50%')\n",
    "ax1.set_xlabel('耦合長度 (μm)')\n",
    "ax1.set_ylabel('第一端口分束比')\n",
    "ax1.set_title('分束比 vs 耦合長度')\n",
    "ax1.legend()\n",
    "ax1.grid(True, alpha=0.3)\n",
    "\n",
    "ax2.plot(coupling_lengths, transmissions, 'g-s')\n",
    "ax2.set_xlabel('耦合長度 (μm)')\n",
    "ax2.set_ylabel('傳輸效率')\n",
    "ax2.set_title('傳輸效率 vs 耦合長度')\n",
    "ax2.grid(True, alpha=0.3)\n",
    "\n",
    "plt.tight_layout()\n",
    "plt.show()"
   ]
  },
  {
   "cell_type": "markdown",
   "metadata": {},
   "source": [
    "## 6. 快速最佳化示例"
   ]
  },
  {
   "cell_type": "code",
   "execution_count": null,
   "metadata": {},
   "outputs": [],
   "source": [
    "# 定義目標函數\n",
    "def optimize_splitter(params):\n",
    "    design_params = DesignParameters(\n",
    "        coupling_length=params['coupling_length'],\n",
    "        gap=params['gap'],\n",
    "        waveguide_width=params['waveguide_width'],\n",
    "        wavelength=1550e-9\n",
    "    )\n",
    "    \n",
    "    result = simulator.simulate_classical(design_params)\n",
    "    evaluation = quick_evaluate(result, target_splitting_ratio=[0.5, 0.5])\n",
    "    \n",
    "    return evaluation['composite_score']\n",
    "\n",
    "# 定義搜尋範圍\n",
    "bounds = {\n",
    "    'coupling_length': (8.0, 25.0),\n",
    "    'gap': (0.15, 0.4),\n",
    "    'waveguide_width': (0.4, 0.6)\n",
    "}\n",
    "\n",
    "# 執行貝葉斯最佳化\n",
    "print(\"執行快速最佳化（15次迭代）...\")\n",
    "best_params, best_value, history = optimize_design(\n",
    "    optimize_splitter,\n",
    "    bounds,\n",
    "    n_iterations=15,\n",
    "    verbose=True\n",
    ")\n",
    "\n",
    "print(f\"\\n最佳化完成！\")\n",
    "print(f\"最佳評分: {best_value:.4f}\")\n",
    "print(f\"最佳參數:\")\n",
    "for param, value in best_params.items():\n",
    "    print(f\"  {param}: {value:.4f}\")"
   ]
  },
  {
   "cell_type": "markdown",
   "metadata": {},
   "source": [
    "## 7. 最佳設計的詳細分析"
   ]
  },
  {
   "cell_type": "code",
   "execution_count": null,
   "metadata": {},
   "outputs": [],
   "source": [
    "# 使用最佳參數進行詳細分析\n",
    "optimal_params = DesignParameters(\n",
    "    coupling_length=best_params['coupling_length'],\n",
    "    gap=best_params['gap'],\n",
    "    waveguide_width=best_params['waveguide_width'],\n",
    "    wavelength=1550e-9\n",
    ")\n",
    "\n",
    "optimal_result = simulator.simulate_classical(optimal_params)\n",
    "optimal_evaluation = quick_evaluate(optimal_result, target_splitting_ratio=[0.5, 0.5])\n",
    "\n",
    "print(\"=== 最佳設計詳細分析 ===\")\n",
    "print(f\"設計參數:\")\n",
    "print(f\"  耦合長度: {optimal_params.coupling_length:.3f} μm\")\n",
    "print(f\"  間距: {optimal_params.gap:.3f} μm\")\n",
    "print(f\"  波導寬度: {optimal_params.waveguide_width:.3f} μm\")\n",
    "\n",
    "print(f\"\\n性能指標:\")\n",
    "print(f\"  分束比: {optimal_result.splitting_ratio[0]:.4f} / {optimal_result.splitting_ratio[1]:.4f}\")\n",
    "print(f\"  50/50偏差: {abs(optimal_result.splitting_ratio[0] - 0.5):.4f}\")\n",
    "print(f\"  插入損耗: {optimal_result.loss_db:.3f} dB\")\n",
    "print(f\"  保真度: {optimal_result.fidelity:.4f}\")\n",
    "print(f\"  製程容忍度: {optimal_result.robustness_score:.4f}\")\n",
    "print(f\"  綜合評分: {optimal_evaluation['composite_score']:.4f}\")"
   ]
  },
  {
   "cell_type": "markdown",
   "metadata": {},
   "source": [
    "## 8. 最佳化收斂分析"
   ]
  },
  {
   "cell_type": "code",
   "execution_count": null,
   "metadata": {},
   "outputs": [],
   "source": [
    "# 繪製最佳化收斂歷史\n",
    "iterations = [h['iteration'] for h in history]\n",
    "objectives = [h['objective'] for h in history]\n",
    "best_so_far = [max(objectives[:i+1]) for i in range(len(objectives))]\n",
    "\n",
    "plt.figure(figsize=(10, 6))\n",
    "plt.plot(iterations, objectives, 'b-o', alpha=0.6, label='當前目標值')\n",
    "plt.plot(iterations, best_so_far, 'r-', linewidth=2, label='目前最佳')\n",
    "plt.xlabel('迭代次數')\n",
    "plt.ylabel('目標值')\n",
    "plt.title('貝葉斯最佳化收斂歷史')\n",
    "plt.legend()\n",
    "plt.grid(True, alpha=0.3)\n",
    "plt.show()\n",
    "\n",
    "print(f\"最佳化改善: {best_so_far[-1] - best_so_far[0]:.4f}\")\n",
    "print(f\"收斂率: {len([i for i, x in enumerate(best_so_far[1:], 1) if x > best_so_far[i-1]]) / len(best_so_far):.2%}\")"
   ]
  },
  {
   "cell_type": "markdown",
   "metadata": {},
   "source": [
    "## 9. 小結\n",
    "\n",
    "這個演示筆記本展示了AI輔助矽光子量子電路設計平台的基本功能：\n",
    "\n",
    "1. **元件建模**: 使用物理模型模擬矽光子元件\n",
    "2. **電路模擬**: 組合元件形成完整電路並進行模擬\n",
    "3. **性能評估**: 多維度評估設計性能\n",
    "4. **智能最佳化**: 使用貝葉斯最佳化自動尋找最佳設計\n",
    "5. **結果分析**: 可視化和分析最佳化結果\n",
    "\n",
    "這個平台可以幫助設計師快速探索設計空間，找到滿足特定需求的最佳矽光子量子電路設計。"
   ]
  }
 ],
 "metadata": {
  "kernelspec": {
   "display_name": "Python 3",
   "language": "python",
   "name": "python3"
  },
  "language_info": {
   "codemirror_mode": {
    "name": "ipython",
    "version": 3
   },
   "file_extension": ".py",
   "mimetype": "text/x-python",
   "name": "python",
   "nbconvert_exporter": "python",
   "pygments_lexer": "ipython3",
   "version": "3.8.5"
  }
 },
 "nbformat": 4,
 "nbformat_minor": 4
}